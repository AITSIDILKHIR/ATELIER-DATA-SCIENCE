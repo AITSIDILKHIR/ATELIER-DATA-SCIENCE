{
  "nbformat": 4,
  "nbformat_minor": 0,
  "metadata": {
    "colab": {
      "provenance": []
    },
    "kernelspec": {
      "name": "python3",
      "display_name": "Python 3"
    },
    "language_info": {
      "name": "python"
    }
  },
  "cells": [
    {
      "cell_type": "markdown",
      "source": [
        "AIT SIDI LKHIR ALI \n",
        "\n",
        "MASTER DATA SCIENCES POUR L'ECONOMIE ET LA FINANCE\n",
        "\n",
        "ATELIER NUMERO 1\n",
        "\n",
        "ENCADRE PAR Dr. EL AACHAK Lotfi"
      ],
      "metadata": {
        "id": "2WytvBkrwg9p"
      }
    },
    {
      "cell_type": "markdown",
      "source": [
        "EXERCICE 1  LA fonction qui renvoie la puissance d’un nombre Xn"
      ],
      "metadata": {
        "id": "23ZEluBt2tc8"
      }
    },
    {
      "cell_type": "code",
      "source": [
        "def puissance():\n",
        "   ps = 1\n",
        "   a=int(input(\"entrer la base \"))\n",
        "   b=int(input(\"entrer l'exposant \"))\n",
        "   for i in range(b):\n",
        "       ps=ps*a\n",
        "   print(a,\"a la puissance\",b, \"est égale à \",ps)\n",
        "puissance()\n"
      ],
      "metadata": {
        "id": "dCCxJEEfs2KC"
      },
      "execution_count": null,
      "outputs": []
    },
    {
      "cell_type": "markdown",
      "source": [
        "  EXERCICE 2  LA  fonction python qui calcul la factorielle d’un nombre donné"
      ],
      "metadata": {
        "id": "2jfxGDt533nM"
      }
    },
    {
      "cell_type": "code",
      "source": [
        "def fact(n):\n",
        "    if n==0 :\n",
        "        return 1\n",
        "    else:\n",
        "        f=1\n",
        "        for i in range(2,n+1) :\n",
        "            f=f*i\n",
        "        return f\n",
        "a=int(input(\"entrer un nombre \"))\n",
        "print(\" la factoriel du nombre \",a,\"est\",fact(a))\n"
      ],
      "metadata": {
        "id": "2jyiVXlO18bG"
      },
      "execution_count": null,
      "outputs": []
    },
    {
      "cell_type": "markdown",
      "source": [
        "exercice 3   fonction en Python pour trouver la somme des séries 1! / 1 + 2! / 2 + 3! / 3 +\n",
        "4! / 4 + 5! / 5.\n"
      ],
      "metadata": {
        "id": "hGPknq3lp8cu"
      }
    },
    {
      "cell_type": "code",
      "source": [
        "def somme(n):\n",
        "    if n==0 :\n",
        "        return 1\n",
        "    else:\n",
        "        s=0\n",
        "        for j in range (1,n+1):\n",
        "            f=1\n",
        "            for i in range(1,j+1) :\n",
        "                f=f*i\n",
        "            s=s+f/j\n",
        "    return s\n",
        "a=int(input(\"entrer un nombre \"))\n",
        "print(\" la somme de la serie est\",somme(a))\n"
      ],
      "metadata": {
        "id": "jbLkzofsqKI-"
      },
      "execution_count": null,
      "outputs": []
    },
    {
      "cell_type": "markdown",
      "source": [
        "  EXERCICE 4 LA  fonction pour convertir le nombre décimal en nombre binaire."
      ],
      "metadata": {
        "id": "2AUQptEdsN-d"
      }
    },
    {
      "cell_type": "code",
      "source": [
        "def TObinaire(n):\n",
        "   \n",
        "    flag=1\n",
        "    comp=0\n",
        "    while flag:\n",
        "        if n//2==0:\n",
        "            flag=0\n",
        "        \n",
        "            \n",
        "        else:\n",
        "            print(n%2,end='')\n",
        "            n=n//2\n",
        "            if n==1:\n",
        "                print(1,end='')\n",
        "            comp=comp+1\n",
        "    print(\"  LE NOMBRE DE BIT EST  \",comp+1)\n",
        "a=int(input(\"entrer un nombre  \"))\n",
        "TObinaire(a)\n"
      ],
      "metadata": {
        "id": "hAAMYhd0sTy3"
      },
      "execution_count": null,
      "outputs": []
    },
    {
      "cell_type": "markdown",
      "source": [
        "EXERCICE 5 Ecrire une fonction en Python pour calculer la somme des nombres de 1 à n."
      ],
      "metadata": {
        "id": "qtjOAbHNsbNh"
      }
    },
    {
      "cell_type": "code",
      "source": [
        "def somme(n):\n",
        "    s=0\n",
        "    for i in range(1,n+1):\n",
        "        s=s+i\n",
        "    return s\n",
        "a=int(input(\"entrer un nombre  \"))\n",
        "print(\"la somme de 1 à \" ,a,\"est\",somme(a))\n"
      ],
      "metadata": {
        "id": "GMs-990Sse3H"
      },
      "execution_count": null,
      "outputs": []
    },
    {
      "cell_type": "markdown",
      "source": [
        "EXERCICE 6  Ecrire une fonction en Python pour compter les chiffres d'un nombre donné."
      ],
      "metadata": {
        "id": "IihLrAjM15RJ"
      }
    },
    {
      "cell_type": "code",
      "source": [
        "def nombre_chiffre(Nombre) :\n",
        "   compteur=0\n",
        "   while Nombre!=0 :\n",
        "        Nombre= int(Nombre/10)\n",
        "        compteur+=1\n",
        "   return compteur\n",
        "N= int(input(\"entrer un nombre :\"))\n",
        "print(\"le nombre :\", N, \"contient \", nombre_chiffre(N))\n",
        "     "
      ],
      "metadata": {
        "id": "1Ry8xl1Y171E"
      },
      "execution_count": null,
      "outputs": []
    },
    {
      "cell_type": "markdown",
      "source": [
        "EXERCICE 7 Ecrire une fonction Python pour trouver la fréquence d’un caractère dans une chaîne."
      ],
      "metadata": {
        "id": "SgOoWeOo2F0m"
      }
    },
    {
      "cell_type": "code",
      "source": [
        "def fréquance(caractere,chaine):\n",
        "    compteur=0\n",
        "    for c in chaine:\n",
        "        if c==caractere:\n",
        "            compteur=compteur+1\n",
        "    return compteur\n",
        "    \n",
        "chaine =input(\"entrer une chaine de caractere   \")  \n",
        "c=input(\"entrer le caractére recherché \")\n",
        "\n",
        "print(\"la chaine \",chaine,\"contient\",fréquance(c,chaine),\" de caractere\",c)"
      ],
      "metadata": {
        "id": "j52-N2aJ2Lcd"
      },
      "execution_count": null,
      "outputs": []
    },
    {
      "cell_type": "markdown",
      "source": [
        "EXERCICE 8  Ecrire une fonction qui cherche un élément dans une matrice puis renvoi sa position «\n",
        "i,j»."
      ],
      "metadata": {
        "id": "_2KOUzJU5TyZ"
      }
    },
    {
      "cell_type": "code",
      "source": [
        "n=int(input(\"entrer le nomre de ligne \"))\n",
        "m=int(input(\"entrer le nomre de colonne \"))\n",
        "M=[]\n",
        "for i in range(n):\n",
        "    M.append([0]*m)\n",
        "    for j in range(m):\n",
        "        M[i][j]=int(input(\"entrer les element de la matrice \"))\n",
        "def cherche(M,element):\n",
        "    for i,j in enumerate(M):\n",
        "        if element in j:\n",
        "            return {'ligne':i+1,'colonne':j.index(element)+1}\n",
        "    return {'ligne':-1,'colonne':-1}\n",
        "print(M)\n",
        "valeur=int(input(\"entrer la valeur à rechercher sa position\"))\n",
        "print(cherche(M,valeur))"
      ],
      "metadata": {
        "id": "6Gxw8IMhnv_E"
      },
      "execution_count": null,
      "outputs": []
    },
    {
      "cell_type": "markdown",
      "source": [
        "EXERCICE 9 Ecrire un programme python composé de plusieurs fonctions :"
      ],
      "metadata": {
        "id": "M8Hgz0fIn8V3"
      }
    },
    {
      "cell_type": "code",
      "source": [
        "from numpy import array\n",
        "t=array ([int()]*20)\n",
        "n=int(input(\"entrer la dimension du tableau \"))\n",
        "for i in range(n):\n",
        "    t[i]=int(input(\"t[\"+str(i)+\"]=\"))\n",
        "print(\"la liste que vous avez entrer est \")\n",
        "for i in range(n):\n",
        "    print(t[i])\n",
        "\n",
        "\n",
        "def moyenne(t):\n",
        "    s=0\n",
        "    for i in range(len(t)):\n",
        "        s=s+t[i]\n",
        "   \n",
        "    return s/n\n",
        "print(\"Moyenne :\",moyenne(t))\n",
        "\n",
        "def minimum(t):\n",
        "    min= t[0]\n",
        "    for i in range(n):\n",
        "        if min > t[i]:\n",
        "            min = t[i]\n",
        "    return min\n",
        "\n",
        "def maximum(t):\n",
        "    max = t[0]\n",
        "    for i in range(n):\n",
        "        if max < t[i]:\n",
        "            max = t[i]\n",
        "    return max\n",
        "print(\"si vous voulez le maximum tapez 1 :\")\n",
        "print(\"si vous voulez le minimum tapez 2 :\")\n",
        "choix=int(input(\" votre choix  : \"))\n",
        "if choix==1:\n",
        "    print (\"max\",maximum(t))\n",
        "elif choix==2 :\n",
        "    print (\"min\",minimum(t))\n",
        "def median(t):\n",
        "       t.sort()\n",
        "       if n%2 !=0:\n",
        "            median=t[int(n/2)]\n",
        "       else:\n",
        "            median= t[(int(n/2))-1]+  t[int(n/2)]\n",
        "            median = median/2\n",
        "       return median \n",
        "print(\"le median du tableau est:\" ,median(t))"
      ],
      "metadata": {
        "id": "swL03FUpoCZ-"
      },
      "execution_count": null,
      "outputs": []
    },
    {
      "cell_type": "code",
      "source": [],
      "metadata": {
        "id": "b_9fOQ-i5cqv"
      },
      "execution_count": null,
      "outputs": []
    },
    {
      "cell_type": "markdown",
      "source": [],
      "metadata": {
        "id": "O2kBK0FQn1NB"
      }
    }
  ]
}